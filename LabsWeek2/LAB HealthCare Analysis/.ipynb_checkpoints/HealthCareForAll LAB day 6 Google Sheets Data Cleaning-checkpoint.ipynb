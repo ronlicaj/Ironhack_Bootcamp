{
 "cells": [
  {
   "cell_type": "markdown",
   "id": "8bccd4cd",
   "metadata": {},
   "source": [
    "### Link to Google Sheet used\n",
    "\n",
    "https://docs.google.com/spreadsheets/d/1hg7gAZkNyfoaCEzM-6yFCUqebeM1P6hlac-vKkMPucg/edit#gid=0"
   ]
  },
  {
   "cell_type": "markdown",
   "id": "464d4811",
   "metadata": {},
   "source": [
    "### Exercise 1\n",
    "\n",
    "\n",
    "Data is provided to the analyst in four different Excel files named file1, file2, file3, and file4. Data is downloaded from a server at some frequent intervals and stored into different files. All the files have the same data recorder, ie. the same headers.\n",
    "We will need to merge all this data together into one file before we start with any other operation on the data.\n",
    "\n"
   ]
  },
  {
   "cell_type": "markdown",
   "id": "cced466e",
   "metadata": {},
   "source": [
    "### Answer 1\n",
    "-> Just added every downloaded file in a separate tab and copy passed all of them into the Summary Tab"
   ]
  },
  {
   "cell_type": "markdown",
   "id": "db9208ea",
   "metadata": {},
   "source": [
    "### Exercise 2\n",
    "\n",
    "There is another file that contains other data such as date of birth, domain, and TARGET_D.\n"
   ]
  },
  {
   "cell_type": "markdown",
   "id": "a16a6d35",
   "metadata": {},
   "source": [
    "### Answer 2\n",
    "\n",
    "-> downloaded these two additional files and added them into the google sheets tabs called sheet 3 long and sheet 4 long "
   ]
  },
  {
   "cell_type": "markdown",
   "id": "72c62736",
   "metadata": {},
   "source": [
    "### Exercise 3\n",
    "\n",
    "\n",
    "Use vlook_up from the file vlookup_table.csv, using the column CONTROLN to add the column TARGET_D to the previous merged data\n"
   ]
  },
  {
   "cell_type": "markdown",
   "id": "4327fb0f",
   "metadata": {},
   "source": [
    "### Answer 3\n",
    "\n",
    "-> Copy downloaded and merged the two sheets 3 & 4 long version in a tab called Aggregated long. From there I used the unique ID \n",
    "\n",
    "Column CONTROL. See below:\n",
    "FOR V-lookup: What values have to be defined?\n",
    "- First you have to define the key that is used to match the two data sets with\n",
    "- Then you have to calibrate the area where the match has to be found. We want to mark the whole aggregated table (the two long add on files)\n",
    "- What value now has to be passed (when the keys matches)? For the first new column we would use Column N in the summary file, which is the Nr. 14 of the tab, so we calibrate 14\n",
    "- If you put false at the end, they really look at the correct identifier and the system doesn't try to find a fuzzy match. So exact match -> put false\n",
    "\n"
   ]
  },
  {
   "cell_type": "markdown",
   "id": "d516a444",
   "metadata": {},
   "source": [
    "### Exercise 4\n",
    "\n",
    "Use the Date of birth column to find the age.\n"
   ]
  },
  {
   "cell_type": "markdown",
   "id": "a30c386e",
   "metadata": {},
   "source": [
    "### Answer 4\n",
    "\n",
    " -> By selecting the DOB Column, I did go for Format and selected Datum Format\n"
   ]
  },
  {
   "cell_type": "markdown",
   "id": "37296489",
   "metadata": {},
   "source": [
    "### Exercise 5\n",
    "\n",
    "As an exercise, split the column Domain and use vlook_up from the file vlookup_table.csv to check which kind of neighborhood they live in (ie. urban, city, town, rural, etc.)."
   ]
  },
  {
   "cell_type": "markdown",
   "id": "fa50a262",
   "metadata": {},
   "source": [
    "### Answer 5\n",
    "\n",
    "\n",
    "-> Here I have prepared a table in the second vlookup sheet combining the codes together (so e.g. U1 = Urban highest Socio Economic Group) and use this as the basis for the new column called Described Domain in the Summary TAB. Again I used the V-Lookup Function to create the new column with the right data.\n"
   ]
  },
  {
   "cell_type": "code",
   "execution_count": null,
   "id": "5acb99d8",
   "metadata": {},
   "outputs": [],
   "source": []
  }
 ],
 "metadata": {
  "kernelspec": {
   "display_name": "Python 3",
   "language": "python",
   "name": "python3"
  },
  "language_info": {
   "codemirror_mode": {
    "name": "ipython",
    "version": 3
   },
   "file_extension": ".py",
   "mimetype": "text/x-python",
   "name": "python",
   "nbconvert_exporter": "python",
   "pygments_lexer": "ipython3",
   "version": "3.8.8"
  }
 },
 "nbformat": 4,
 "nbformat_minor": 5
}
