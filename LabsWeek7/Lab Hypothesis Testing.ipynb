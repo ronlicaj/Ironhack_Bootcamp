{
 "cells": [
  {
   "cell_type": "code",
   "execution_count": 1,
   "id": "4adfd093",
   "metadata": {},
   "outputs": [],
   "source": [
    "import numpy as np\n",
    "import pandas as pd\n",
    "import scipy.stats as stats\n",
    "import matplotlib.pyplot as plt\n",
    "import seaborn as sns\n",
    "\n",
    "%matplotlib inline"
   ]
  },
  {
   "cell_type": "markdown",
   "id": "38bcb6fc",
   "metadata": {},
   "source": [
    "### Excercise 1"
   ]
  },
  {
   "cell_type": "code",
   "execution_count": 2,
   "id": "159c74c8",
   "metadata": {},
   "outputs": [],
   "source": [
    "# The Null Hypothesis (H0): The average blood pressure of 130.1 is not significantly\n",
    "# different to the average of the population being 120\n",
    "\n",
    "mean_populat = 120\n",
    "samp_size = 100\n",
    "x_average = 130.1\n",
    "x_stand_dev = 21.21\n"
   ]
  },
  {
   "cell_type": "code",
   "execution_count": 3,
   "id": "118375fd",
   "metadata": {},
   "outputs": [
    {
     "name": "stdout",
     "output_type": "stream",
     "text": [
      "The t score of our sample is: 4.76\n"
     ]
    }
   ],
   "source": [
    "# Calculate the t-score or the test-statistics\n",
    "t = (x_average - mean_populat) / (x_stand_dev / np.sqrt(100))\n",
    "print(\"The t score of our sample is: {:.2f}\".format(t))"
   ]
  },
  {
   "cell_type": "code",
   "execution_count": 4,
   "id": "39ac094d",
   "metadata": {},
   "outputs": [
    {
     "name": "stdout",
     "output_type": "stream",
     "text": [
      "The critical value corresponding to a two-sided 0.95 area of a T Student distribution is: 1.98\n"
     ]
    }
   ],
   "source": [
    "# Calculate the critical value based on the set significant level of 5% (two-sided)\n",
    "tc = stats.t.ppf(0.975, df=99)\n",
    "print(\"The critical value corresponding to a two-sided 0.95 area of a T Student distribution is: {:.2f}\".format(tc))"
   ]
  },
  {
   "cell_type": "code",
   "execution_count": 5,
   "id": "21036df8",
   "metadata": {},
   "outputs": [],
   "source": [
    "# result\n",
    "# t = 4.76 > tc = 1.98\n",
    "# -> we REJECT the NULL HYPOTHESIS, the blood preassure of the sample is siginficantly different from the population"
   ]
  },
  {
   "cell_type": "markdown",
   "id": "b06378f0",
   "metadata": {},
   "source": [
    "### Excercise 2"
   ]
  },
  {
   "cell_type": "code",
   "execution_count": 6,
   "id": "ea237731",
   "metadata": {},
   "outputs": [],
   "source": [
    "# read txt and put into a df\n",
    "df=pd.read_table(\"Data_Machine.txt\", header=\"infer\", sep=\"\\t\")"
   ]
  },
  {
   "cell_type": "code",
   "execution_count": 7,
   "id": "adc049a6",
   "metadata": {},
   "outputs": [
    {
     "data": {
      "text/html": [
       "<div>\n",
       "<style scoped>\n",
       "    .dataframe tbody tr th:only-of-type {\n",
       "        vertical-align: middle;\n",
       "    }\n",
       "\n",
       "    .dataframe tbody tr th {\n",
       "        vertical-align: top;\n",
       "    }\n",
       "\n",
       "    .dataframe thead th {\n",
       "        text-align: right;\n",
       "    }\n",
       "</style>\n",
       "<table border=\"1\" class=\"dataframe\">\n",
       "  <thead>\n",
       "    <tr style=\"text-align: right;\">\n",
       "      <th></th>\n",
       "      <th>New Machine</th>\n",
       "      <th>Old Machine</th>\n",
       "    </tr>\n",
       "  </thead>\n",
       "  <tbody>\n",
       "    <tr>\n",
       "      <th>0</th>\n",
       "      <td>42.1</td>\n",
       "      <td>42.7</td>\n",
       "    </tr>\n",
       "    <tr>\n",
       "      <th>1</th>\n",
       "      <td>41.0</td>\n",
       "      <td>43.6</td>\n",
       "    </tr>\n",
       "    <tr>\n",
       "      <th>2</th>\n",
       "      <td>41.3</td>\n",
       "      <td>43.8</td>\n",
       "    </tr>\n",
       "    <tr>\n",
       "      <th>3</th>\n",
       "      <td>41.8</td>\n",
       "      <td>43.3</td>\n",
       "    </tr>\n",
       "    <tr>\n",
       "      <th>4</th>\n",
       "      <td>42.4</td>\n",
       "      <td>42.5</td>\n",
       "    </tr>\n",
       "    <tr>\n",
       "      <th>5</th>\n",
       "      <td>42.8</td>\n",
       "      <td>43.5</td>\n",
       "    </tr>\n",
       "    <tr>\n",
       "      <th>6</th>\n",
       "      <td>43.2</td>\n",
       "      <td>43.1</td>\n",
       "    </tr>\n",
       "    <tr>\n",
       "      <th>7</th>\n",
       "      <td>42.3</td>\n",
       "      <td>41.7</td>\n",
       "    </tr>\n",
       "    <tr>\n",
       "      <th>8</th>\n",
       "      <td>41.8</td>\n",
       "      <td>44.0</td>\n",
       "    </tr>\n",
       "    <tr>\n",
       "      <th>9</th>\n",
       "      <td>42.7</td>\n",
       "      <td>44.1</td>\n",
       "    </tr>\n",
       "  </tbody>\n",
       "</table>\n",
       "</div>"
      ],
      "text/plain": [
       "   New Machine  Old Machine\n",
       "0         42.1         42.7\n",
       "1         41.0         43.6\n",
       "2         41.3         43.8\n",
       "3         41.8         43.3\n",
       "4         42.4         42.5\n",
       "5         42.8         43.5\n",
       "6         43.2         43.1\n",
       "7         42.3         41.7\n",
       "8         41.8         44.0\n",
       "9         42.7         44.1"
      ]
     },
     "execution_count": 7,
     "metadata": {},
     "output_type": "execute_result"
    }
   ],
   "source": [
    "df"
   ]
  },
  {
   "cell_type": "code",
   "execution_count": 8,
   "id": "e3eb64c5",
   "metadata": {},
   "outputs": [],
   "source": [
    "# The Null Hypothesis (H0): The average time for packing cartons for the new Machine\n",
    "# is not significantly lower than the average time for the old Machine (-> one sided)"
   ]
  },
  {
   "cell_type": "code",
   "execution_count": 9,
   "id": "7997c632",
   "metadata": {},
   "outputs": [],
   "source": [
    "sample_size = 10\n",
    "New_Mach_average = df[\"New Machine\"].mean()\n",
    "Old_Mach_average = df[\"Old Machine\"].mean()\n",
    "New_Mach_SD = df[\"New Machine\"].std()\n",
    "Old_Mach_SD = df[\"Old Machine\"].std()"
   ]
  },
  {
   "cell_type": "code",
   "execution_count": 14,
   "id": "2e2b03d1",
   "metadata": {},
   "outputs": [
    {
     "name": "stdout",
     "output_type": "stream",
     "text": [
      "The t score of our sample is: -3.40\n"
     ]
    }
   ],
   "source": [
    "# Calculate the t-score or the test-statistics\n",
    "t = (New_Mach_average - Old_Mach_average) / np.sqrt(((New_Mach_SD**2)/10) + ((Old_Mach_SD**2)/10))\n",
    "print(\"The t score of our sample is: {:.2f}\".format(t))"
   ]
  },
  {
   "cell_type": "code",
   "execution_count": 15,
   "id": "8a42394c",
   "metadata": {},
   "outputs": [
    {
     "name": "stdout",
     "output_type": "stream",
     "text": [
      "The critical value corresponding to a one-sided 0.95 area of a T Student distribution is: 1.83\n"
     ]
    }
   ],
   "source": [
    "# Calculate the critical value based on the set significant level of 5% (one-sided)\n",
    "tc = stats.t.ppf(0.95, df=9)\n",
    "print(\"The critical value corresponding to a one-sided 0.95 area of a T Student distribution is: {:.2f}\".format(tc))"
   ]
  },
  {
   "cell_type": "code",
   "execution_count": 16,
   "id": "802500df",
   "metadata": {},
   "outputs": [],
   "source": [
    "# result\n",
    "# t = -5.04 < tc = -1.83\n",
    "# -> we REJECT the NULL HYPOTHESIS, the new Machine is significantly faster"
   ]
  },
  {
   "cell_type": "code",
   "execution_count": null,
   "id": "de862974",
   "metadata": {},
   "outputs": [],
   "source": []
  }
 ],
 "metadata": {
  "kernelspec": {
   "display_name": "Python 3",
   "language": "python",
   "name": "python3"
  },
  "language_info": {
   "codemirror_mode": {
    "name": "ipython",
    "version": 3
   },
   "file_extension": ".py",
   "mimetype": "text/x-python",
   "name": "python",
   "nbconvert_exporter": "python",
   "pygments_lexer": "ipython3",
   "version": "3.8.8"
  }
 },
 "nbformat": 4,
 "nbformat_minor": 5
}
