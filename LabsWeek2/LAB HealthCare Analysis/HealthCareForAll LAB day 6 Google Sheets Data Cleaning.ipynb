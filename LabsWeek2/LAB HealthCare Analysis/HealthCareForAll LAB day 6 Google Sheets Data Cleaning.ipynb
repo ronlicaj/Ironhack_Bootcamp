{
 "cells": [
  {
   "cell_type": "markdown",
   "id": "8bccd4cd",
   "metadata": {},
   "source": [
    "### Link to Google Sheet used\n",
    "\n",
    "https://docs.google.com/spreadsheets/d/1hg7gAZkNyfoaCEzM-6yFCUqebeM1P6hlac-vKkMPucg/edit#gid=0"
   ]
  },
  {
   "cell_type": "markdown",
   "id": "464d4811",
   "metadata": {},
   "source": [
    "### Exercise 1\n",
    "\n",
    "\n",
    "Data is provided to the analyst in four different Excel files named file1, file2, file3, and file4. Data is downloaded from a server at some frequent intervals and stored into different files. All the files have the same data recorder, ie. the same headers.\n",
    "We will need to merge all this data together into one file before we start with any other operation on the data.\n",
    "\n"
   ]
  },
  {
   "cell_type": "markdown",
   "id": "cced466e",
   "metadata": {},
   "source": [
    "### Answer 1\n",
    "-> Just added every downloaded file in a separate tab and copy passed all of them into the Summary Tab"
   ]
  },
  {
   "cell_type": "markdown",
   "id": "db9208ea",
   "metadata": {},
   "source": [
    "### Exercise 2\n",
    "\n",
    "There is another file that contains other data such as date of birth, domain, and TARGET_D.\n"
   ]
  },
  {
   "cell_type": "markdown",
   "id": "a16a6d35",
   "metadata": {},
   "source": [
    "### Answer 2\n",
    "\n",
    "-> downloaded these two additional files and added them into the google sheets tabs called sheet 3 long and sheet 4 long "
   ]
  },
  {
   "cell_type": "markdown",
   "id": "72c62736",
   "metadata": {},
   "source": [
    "### Exercise 3\n",
    "\n",
    "\n",
    "Use vlook_up from the file vlookup_table.csv, using the column CONTROLN to add the column TARGET_D to the previous merged data\n"
   ]
  },
  {
   "cell_type": "markdown",
   "id": "4327fb0f",
   "metadata": {},
   "source": [
    "### Answer 3\n",
    "\n",
    "-> Copy downloaded and merged the two sheets 3 & 4 long version in a tab called Aggregated long. From there I used the unique ID \n",
    "\n",
    "Column CONTROL. See below:\n",
    "FOR V-lookup: What values have to be defined?\n",
    "- First you have to define the key that is used to match the two data sets with\n",
    "- Then you have to calibrate the area where the match has to be found. We want to mark the whole aggregated table (the two long add on files)\n",
    "- What value now has to be passed (when the keys matches)? For the first new column we would use Column N in the summary file, which is the Nr. 14 of the tab, so we calibrate 14\n",
    "- If you put false at the end, they really look at the correct identifier and the system doesn't try to find a fuzzy match. So exact match -> put false\n",
    "\n"
   ]
  },
  {
   "cell_type": "markdown",
   "id": "d516a444",
   "metadata": {},
   "source": [
    "### Exercise 4\n",
    "\n",
    "Use the Date of birth column to find the age.\n"
   ]
  },
  {
   "cell_type": "markdown",
   "id": "a30c386e",
   "metadata": {},
   "source": [
    "### Answer 4\n",
    "\n",
    " -> By selecting the DOB Column, I did go for Format and selected Datum Format\n"
   ]
  },
  {
   "cell_type": "markdown",
   "id": "37296489",
   "metadata": {},
   "source": [
    "### Exercise 5\n",
    "\n",
    "As an exercise, split the column Domain and use vlook_up from the file vlookup_table.csv to check which kind of neighborhood they live in (ie. urban, city, town, rural, etc.)."
   ]
  },
  {
   "cell_type": "markdown",
   "id": "fa50a262",
   "metadata": {},
   "source": [
    "### Answer 5\n",
    "\n",
    "\n",
    "-> Here I have prepared a table in the second vlookup sheet combining the codes together (so e.g. U1 = Urban highest Socio Economic Group) and use this as the basis for the new column called Described Domain in the Summary TAB. Again I used the V-Lookup Function to create the new column with the right data.\n"
   ]
  },
  {
   "cell_type": "markdown",
   "id": "08c5673c",
   "metadata": {},
   "source": [
    "### Exercise & Answer 6\n",
    "\n",
    "Standardizing header names\n",
    "-> Here I basically used the description sheet and applied for column HV1 for example the explainable piece. So turned HV1 into HV1 - Median Home Value in hundreds"
   ]
  },
  {
   "cell_type": "markdown",
   "id": "8c84d7ec",
   "metadata": {},
   "source": [
    "### Exercise & Answer 7\n",
    "\n",
    "Cleaning data such as e.g. Male into M for example\n",
    "#### Bearbeiten -> suchen und ersetzten\n",
    "-> I did clean the entire Gender Column by turning Male into M and changed all Blank, U, J, A and feaM values into N"
   ]
  },
  {
   "cell_type": "markdown",
   "id": "6fb9b957",
   "metadata": {},
   "source": [
    "### Exercise & Answer 8\n",
    "\n",
    "Deleting and rearranging columns\n",
    "#### rechts klick and spalte löschen\n",
    "#### put the columns into the right order"
   ]
  },
  {
   "cell_type": "markdown",
   "id": "e209eae4",
   "metadata": {},
   "source": [
    "### Exercise & Answer 9\n",
    "\n",
    "Working with data types\n",
    "#### Play around with different data types by pressing on Format and then select the different ones and see how the data changes\n"
   ]
  },
  {
   "cell_type": "markdown",
   "id": "220c25f7",
   "metadata": {},
   "source": [
    "### Exercise & Answer 10\n",
    "\n",
    "Filtering data\n",
    "#### Daten -> Filter aktivieren"
   ]
  },
  {
   "cell_type": "markdown",
   "id": "65b4ba53",
   "metadata": {},
   "source": [
    "### Exercise & Answer 11\n",
    "\n",
    "Removing duplicates\n",
    "#### Daten -> Duplikate entfernen"
   ]
  },
  {
   "cell_type": "markdown",
   "id": "da9ccdf7",
   "metadata": {},
   "source": [
    "### Exercise & Answer 12\n",
    "\n",
    "Conditional Formatting\n",
    "#### Format -> Bedingte Formatierung\n",
    "here you can say that e.g. if the selected cell is not empty, you give it a green background. You can play around with it."
   ]
  },
  {
   "cell_type": "markdown",
   "id": "f7760040",
   "metadata": {},
   "source": [
    "### Exercise & Answer 13\n",
    "\n",
    "Replacing null values\n",
    "#### Using the find and replace function I did for the Gender Column apply for it following logic:\n",
    "blank, U, J, A, feaM -> turning all into \"N\""
   ]
  },
  {
   "cell_type": "markdown",
   "id": "cf99179f",
   "metadata": {},
   "source": [
    "### Exercise & Answer 14\n",
    "\n",
    "String functions\n",
    "#### Did not know what to do here?"
   ]
  },
  {
   "cell_type": "markdown",
   "id": "80b38d03",
   "metadata": {},
   "source": [
    "### Exercise & Answer 15\n",
    "\n",
    "Standardizing data\n",
    "#### Similar then the first task\n"
   ]
  },
  {
   "cell_type": "markdown",
   "id": "002bb433",
   "metadata": {},
   "source": [
    "### Exercise & Answer 16\n",
    "\n",
    "ImportRange and indirect (use the same data with spreadsheets)\n",
    "#### Did not know what to do here?"
   ]
  },
  {
   "cell_type": "markdown",
   "id": "a3554f8d",
   "metadata": {},
   "source": [
    "### Exercise & Answer 17\n",
    "\n",
    "Using V lookups/H lookups\n",
    "#### see exercise at the beginning\n"
   ]
  },
  {
   "cell_type": "code",
   "execution_count": null,
   "id": "fd2345e6",
   "metadata": {},
   "outputs": [],
   "source": []
  }
 ],
 "metadata": {
  "kernelspec": {
   "display_name": "Python 3",
   "language": "python",
   "name": "python3"
  },
  "language_info": {
   "codemirror_mode": {
    "name": "ipython",
    "version": 3
   },
   "file_extension": ".py",
   "mimetype": "text/x-python",
   "name": "python",
   "nbconvert_exporter": "python",
   "pygments_lexer": "ipython3",
   "version": "3.8.8"
  }
 },
 "nbformat": 4,
 "nbformat_minor": 5
}
